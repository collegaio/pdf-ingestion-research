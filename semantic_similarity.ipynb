{
 "cells": [
  {
   "cell_type": "code",
   "execution_count": 1,
   "id": "ba162b0e-e136-49b1-b672-774605aed4ca",
   "metadata": {},
   "outputs": [
    {
     "data": {
      "text/plain": [
       "True"
      ]
     },
     "execution_count": 1,
     "metadata": {},
     "output_type": "execute_result"
    }
   ],
   "source": [
    "import os\n",
    "import dotenv\n",
    "\n",
    "dotenv.load_dotenv()"
   ]
  },
  {
   "cell_type": "code",
   "execution_count": 2,
   "id": "9aae822e-58f8-430c-838e-3f46fcd9ebc0",
   "metadata": {},
   "outputs": [
    {
     "name": "stderr",
     "output_type": "stream",
     "text": [
      "[nltk_data] Downloading package punkt_tab to /Users/jeremy.herzog/.pye\n",
      "[nltk_data]     nv/versions/3.11.4/lib/python3.11/site-\n",
      "[nltk_data]     packages/llama_index/core/_static/nltk_cache...\n",
      "[nltk_data]   Package punkt_tab is already up-to-date!\n"
     ]
    }
   ],
   "source": [
    "from llama_index.embeddings.cohere import CohereEmbedding\n",
    "from llama_index.embeddings.openai import OpenAIEmbedding\n",
    "\n",
    "embed_model = CohereEmbedding(cohere_api_key=os.environ[\"COHERE_API_KEY\"], model_name=\"embed-english-v3.0\")\n",
    "# embed_model = OpenAIEmbedding(api_key=os.environ[\"OPENAI_API_KEY\"], model=\"text-embedding-3-small\")"
   ]
  },
  {
   "cell_type": "code",
   "execution_count": 13,
   "id": "cd04e4e4-178b-46df-a6e5-3decc5098e9f",
   "metadata": {
    "scrolled": true
   },
   "outputs": [
    {
     "data": {
      "text/plain": [
       "array([[0.38467444]])"
      ]
     },
     "execution_count": 13,
     "metadata": {},
     "output_type": "execute_result"
    }
   ],
   "source": [
    "from sklearn.metrics.pairwise import cosine_similarity\n",
    "\n",
    "import nest_asyncio; nest_asyncio.apply();\n",
    "\n",
    "text_a = \"\"\"\n",
    "schools located in the south\n",
    "\"\"\"\n",
    "\n",
    "text_b = \"\"\"\n",
    "RUTGERS UNIVERSITY\n",
    "\"\"\"\n",
    "\n",
    "text_a_embedding = await embed_model.aget_text_embedding(text_a)\n",
    "text_b_embedding = await embed_model.aget_text_embedding(text_b)\n",
    "\n",
    "cosine_similarity([text_a_embedding], [text_b_embedding])"
   ]
  },
  {
   "cell_type": "code",
   "execution_count": 17,
   "id": "f726ee63-f646-489d-9ff5-c33b4b1b657f",
   "metadata": {
    "scrolled": true
   },
   "outputs": [
    {
     "data": {
      "text/plain": [
       "[('University of Rochester, Rochester, NY 14627', 0.3718114642452711),\n",
       " ('University of Florida - Main Campus, Gainesville, FL 32611',\n",
       "  0.41855892149962964),\n",
       " ('University of Dayton, 300 College Park, Dayton, OH 45469',\n",
       "  0.33614491603543634),\n",
       " ('California Polytechnic State University, San Luis Obispo, CA 93407',\n",
       "  0.34621457590205384),\n",
       " ('Baylor University, 1311 S 5th St, Waco, TX 76706', 0.3975875087893648),\n",
       " ('Pomona College, 333 N College Way, Claremont, CA 91711',\n",
       "  0.3594790523269663),\n",
       " ('Iowa State University, Ames, IA 50011', 0.4000651362003228),\n",
       " ('University of California, Santa Barbara, Santa Barbara, CA 93106',\n",
       "  0.3868263156527376),\n",
       " ('Boston College, 140 Commonwealth Avenue, Chestnut Hill, MA 02467',\n",
       "  0.29119175035175304),\n",
       " ('College of the Holy Cross, 1 College St, Worcester, MA 01610',\n",
       "  0.3309509261492706),\n",
       " ('Babson College, 231 Forest St, Wellesley, MA 02457', 0.3330177106772869),\n",
       " ('University of California, San Diego, 9500 Gilman Dr, La Jolla, CA 92093',\n",
       "  0.3292062993200351),\n",
       " ('The University of North Carolina at Charlotte, 9201 University City Blvd, Charlotte, NC 28223',\n",
       "  0.3534074668737264),\n",
       " ('University of Michigan, Ann Arbor, MI 48109', 0.41401448870413415),\n",
       " ('Duke University, Durham, NC 27708', 0.39548538687891155),\n",
       " ('Brown University, Providence, RI 02912', 0.38896720347823055),\n",
       " ('Williams College, 880 Main St, Williamstown, MA 01267',\n",
       "  0.33788609790565166),\n",
       " ('University of Richmond, 28 Westhampton Way, Richmond, VA 23173',\n",
       "  0.3634712470895129),\n",
       " ('Lafayette College, 730 High St, Easton, PA 18042', 0.3659924841456075),\n",
       " ('University of Nevada, Las Vegas, 4505 S Maryland Pkwy, Las Vegas, NV 89154',\n",
       "  0.324118669949103),\n",
       " ('Harvard University, Cambridge, MA 02138', 0.38079828090640727),\n",
       " ('Marquette University, 1250 W Wisconsin Ave, Milwaukee, WI 53233',\n",
       "  0.31364516544807297),\n",
       " ('Clemson University, Clemson, SC 29634', 0.459437635057301)]"
      ]
     },
     "execution_count": 17,
     "metadata": {},
     "output_type": "execute_result"
    }
   ],
   "source": [
    "column_names = [\n",
    "    \"University of Rochester, Rochester, NY 14627\",\n",
    "    \"University of Florida - Main Campus, Gainesville, FL 32611\",\n",
    "    \"University of Dayton, 300 College Park, Dayton, OH 45469\",\n",
    "    \"California Polytechnic State University, San Luis Obispo, CA 93407\",\n",
    "    \"Baylor University, 1311 S 5th St, Waco, TX 76706\",\n",
    "    \"Pomona College, 333 N College Way, Claremont, CA 91711\",\n",
    "    \"Iowa State University, Ames, IA 50011\",\n",
    "    \"University of California, Santa Barbara, Santa Barbara, CA 93106\",\n",
    "    \"Boston College, 140 Commonwealth Avenue, Chestnut Hill, MA 02467\",\n",
    "    \"College of the Holy Cross, 1 College St, Worcester, MA 01610\",\n",
    "    \"Babson College, 231 Forest St, Wellesley, MA 02457\",\n",
    "    \"University of California, San Diego, 9500 Gilman Dr, La Jolla, CA 92093\",\n",
    "    \"The University of North Carolina at Charlotte, 9201 University City Blvd, Charlotte, NC 28223\",\n",
    "    \"University of Michigan, Ann Arbor, MI 48109\",\n",
    "    \"Duke University, Durham, NC 27708\",\n",
    "    \"Brown University, Providence, RI 02912\",\n",
    "    \"Williams College, 880 Main St, Williamstown, MA 01267\",\n",
    "    \"University of Richmond, 28 Westhampton Way, Richmond, VA 23173\",\n",
    "    \"Lafayette College, 730 High St, Easton, PA 18042\",\n",
    "    \"University of Nevada, Las Vegas, 4505 S Maryland Pkwy, Las Vegas, NV 89154\",\n",
    "    \"Harvard University, Cambridge, MA 02138\",\n",
    "    \"Marquette University, 1250 W Wisconsin Ave, Milwaukee, WI 53233\",\n",
    "    \"Clemson University, Clemson, SC 29634\"\n",
    "]\n",
    "\n",
    "\n",
    "node_text = \"\"\"\n",
    "Which schools are meet the following geographic preference criteria?\n",
    "\n",
    "* The South\n",
    "\"\"\"\n",
    "\n",
    "column_embeddings = await embed_model.aget_text_embedding_batch(texts=column_names)\n",
    "text_embedding = await embed_model.aget_text_embedding(node_text)\n",
    "\n",
    "cosine_sims = cosine_similarity([text_embedding], column_embeddings)\n",
    "column_sims = []\n",
    "\n",
    "for text_sims in cosine_sims:\n",
    "    for j, text_sim in enumerate(text_sims):\n",
    "        column_sims.append((column_names[j], text_sim))\n",
    "\n",
    "column_sims"
   ]
  },
  {
   "cell_type": "code",
   "execution_count": 15,
   "id": "734d42e2-ad0e-41fa-ba15-6f6cbdd96930",
   "metadata": {},
   "outputs": [
    {
     "name": "stdout",
     "output_type": "stream",
     "text": [
      "('percent_who_had_gpa_between_1_0_and_1_99', 0.601285067489364)\n"
     ]
    }
   ],
   "source": [
    "import numpy as np\n",
    "\n",
    "max_idx = np.argmax(cosine_sims, axis=1)[0]\n",
    "print(column_sims[max_idx])"
   ]
  },
  {
   "cell_type": "code",
   "execution_count": 19,
   "id": "b9a87171-78e5-49e9-925c-5a12a441efab",
   "metadata": {
    "scrolled": true
   },
   "outputs": [
    {
     "name": "stdout",
     "output_type": "stream",
     "text": [
      "[ 4  5  8 11 22]\n"
     ]
    },
    {
     "data": {
      "text/plain": [
       "{1: [('University of Rochester, Rochester, NY 14627', 0.3718114642452711),\n",
       "  ('California Polytechnic State University, San Luis Obispo, CA 93407',\n",
       "   0.34621457590205384),\n",
       "  ('Pomona College, 333 N College Way, Claremont, CA 91711',\n",
       "   0.3594790523269663),\n",
       "  ('The University of North Carolina at Charlotte, 9201 University City Blvd, Charlotte, NC 28223',\n",
       "   0.3534074668737264),\n",
       "  ('University of Richmond, 28 Westhampton Way, Richmond, VA 23173',\n",
       "   0.3634712470895129),\n",
       "  ('Lafayette College, 730 High St, Easton, PA 18042', 0.3659924841456075)],\n",
       " 0: [('University of Florida - Main Campus, Gainesville, FL 32611',\n",
       "   0.41855892149962964),\n",
       "  ('Baylor University, 1311 S 5th St, Waco, TX 76706', 0.3975875087893648),\n",
       "  ('Iowa State University, Ames, IA 50011', 0.4000651362003228),\n",
       "  ('University of California, Santa Barbara, Santa Barbara, CA 93106',\n",
       "   0.3868263156527376),\n",
       "  ('University of Michigan, Ann Arbor, MI 48109', 0.41401448870413415),\n",
       "  ('Duke University, Durham, NC 27708', 0.39548538687891155),\n",
       "  ('Brown University, Providence, RI 02912', 0.38896720347823055),\n",
       "  ('Harvard University, Cambridge, MA 02138', 0.38079828090640727)],\n",
       " 3: [('University of Dayton, 300 College Park, Dayton, OH 45469',\n",
       "   0.33614491603543634),\n",
       "  ('College of the Holy Cross, 1 College St, Worcester, MA 01610',\n",
       "   0.3309509261492706),\n",
       "  ('Babson College, 231 Forest St, Wellesley, MA 02457', 0.3330177106772869),\n",
       "  ('University of California, San Diego, 9500 Gilman Dr, La Jolla, CA 92093',\n",
       "   0.3292062993200351),\n",
       "  ('Williams College, 880 Main St, Williamstown, MA 01267',\n",
       "   0.33788609790565166),\n",
       "  ('University of Nevada, Las Vegas, 4505 S Maryland Pkwy, Las Vegas, NV 89154',\n",
       "   0.324118669949103),\n",
       "  ('Marquette University, 1250 W Wisconsin Ave, Milwaukee, WI 53233',\n",
       "   0.31364516544807297)],\n",
       " 2: [('Boston College, 140 Commonwealth Avenue, Chestnut Hill, MA 02467',\n",
       "   0.29119175035175304)],\n",
       " 4: [('Clemson University, Clemson, SC 29634', 0.459437635057301)]}"
      ]
     },
     "execution_count": 19,
     "metadata": {},
     "output_type": "execute_result"
    }
   ],
   "source": [
    "from sklearn.cluster import affinity_propagation\n",
    "from sklearn.metrics.pairwise import euclidean_distances\n",
    "\n",
    "# cosine_sims[0].reshape(-1, 1)\n",
    "S = -euclidean_distances(cosine_sims[0].reshape(-1, 1), squared=True)\n",
    "# S\n",
    "cluster_centers_indices, labels = affinity_propagation(S, random_state=0)\n",
    "print(cluster_centers_indices)\n",
    "groups = {}\n",
    "\n",
    "for i, label in enumerate(labels):\n",
    "    if label not in groups:\n",
    "        groups[label] = [column_sims[i]]\n",
    "    else:\n",
    "        groups[label].append(column_sims[i])\n",
    "\n",
    "groups\n",
    "# max cosine similarity is in what group? -> try to fill those columns"
   ]
  },
  {
   "cell_type": "code",
   "execution_count": 16,
   "id": "852e1a9c-224d-46f1-b726-7fc44275a755",
   "metadata": {},
   "outputs": [
    {
     "data": {
      "text/plain": [
       "[('percent_who_had_gpa_of_4', 0.5632066704592831),\n",
       " ('percent_who_had_gpa_between_3_75_and_3_99', 0.5828313567541883),\n",
       " ('percent_who_had_gpa_between_3_50_and_3_74', 0.5917935769697924),\n",
       " ('percent_who_had_gpa_between_3_25_and_3_49', 0.5940490744743664),\n",
       " ('percent_who_had_gpa_between_3_00_and_3_24', 0.5854920860592666),\n",
       " ('percent_who_had_gpa_between_2_50_and_2_99', 0.5834674695539106),\n",
       " ('percent_who_had_gpa_between_2_0_and_2_49', 0.5881357542287242),\n",
       " ('percent_who_had_gpa_between_1_0_and_1_99', 0.601285067489364)]"
      ]
     },
     "execution_count": 16,
     "metadata": {},
     "output_type": "execute_result"
    }
   ],
   "source": [
    "from sklearn.cluster import MeanShift\n",
    "\n",
    "clustering = MeanShift().fit(cosine_sims[0].reshape(-1, 1))\n",
    "\n",
    "groups = {}\n",
    "\n",
    "for i, label in enumerate(clustering.labels_):\n",
    "    if label not in groups:\n",
    "        groups[label] = [column_sims[i]]\n",
    "    else:\n",
    "        groups[label].append(column_sims[i])\n",
    "\n",
    "# groups\n",
    "groups[clustering.labels_[max_idx]]"
   ]
  },
  {
   "cell_type": "code",
   "execution_count": 22,
   "id": "dcfa88ed-dab2-4383-8198-fcaf3ee93db3",
   "metadata": {},
   "outputs": [
    {
     "name": "stdout",
     "output_type": "stream",
     "text": [
      "{\n",
      "  \"properties\": {\n",
      "    \"name\": {\n",
      "      \"anyOf\": [\n",
      "        {\n",
      "          \"type\": \"string\"\n",
      "        },\n",
      "        {\n",
      "          \"type\": \"null\"\n",
      "        }\n",
      "      ],\n",
      "      \"default\": null,\n",
      "      \"title\": \"Name\"\n",
      "    },\n",
      "    \"age\": {\n",
      "      \"anyOf\": [\n",
      "        {\n",
      "          \"type\": \"integer\"\n",
      "        },\n",
      "        {\n",
      "          \"type\": \"null\"\n",
      "        }\n",
      "      ],\n",
      "      \"default\": null,\n",
      "      \"title\": \"Age\"\n",
      "    },\n",
      "    \"salary\": {\n",
      "      \"anyOf\": [\n",
      "        {\n",
      "          \"type\": \"number\"\n",
      "        },\n",
      "        {\n",
      "          \"type\": \"null\"\n",
      "        }\n",
      "      ],\n",
      "      \"default\": null,\n",
      "      \"title\": \"Salary\"\n",
      "    },\n",
      "    \"has_children\": {\n",
      "      \"anyOf\": [\n",
      "        {\n",
      "          \"type\": \"boolean\"\n",
      "        },\n",
      "        {\n",
      "          \"type\": \"null\"\n",
      "        }\n",
      "      ],\n",
      "      \"default\": null,\n",
      "      \"title\": \"Has Children\"\n",
      "    }\n",
      "  },\n",
      "  \"title\": \"Column\",\n",
      "  \"type\": \"object\"\n",
      "}\n"
     ]
    }
   ],
   "source": [
    "from pydantic import BaseModel, Field\n",
    "from typing import Literal\n",
    "import json\n",
    "\n",
    "class Column(BaseModel):\n",
    "    name: str | None = None\n",
    "    age: int | None = None\n",
    "    salary: float | None = None\n",
    "    has_children: bool | None = None\n",
    "    # name: str = Field(description=\"Column name\")\n",
    "    # datatype: Literal[\"str\", \"int\", \"float\", \"bool\"] = Field(\n",
    "    #     description=\"Datatype of values for column\", default=\"str\"\n",
    "    # )\n",
    "\n",
    "print(json.dumps(Column.model_json_schema(), indent=2))"
   ]
  },
  {
   "cell_type": "code",
   "execution_count": null,
   "id": "0a913849-7fd4-4531-955c-86bea267d737",
   "metadata": {},
   "outputs": [],
   "source": []
  }
 ],
 "metadata": {
  "kernelspec": {
   "display_name": "Python 3 (ipykernel)",
   "language": "python",
   "name": "python3"
  },
  "language_info": {
   "codemirror_mode": {
    "name": "ipython",
    "version": 3
   },
   "file_extension": ".py",
   "mimetype": "text/x-python",
   "name": "python",
   "nbconvert_exporter": "python",
   "pygments_lexer": "ipython3",
   "version": "3.11.4"
  }
 },
 "nbformat": 4,
 "nbformat_minor": 5
}
