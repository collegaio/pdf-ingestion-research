{
 "cells": [
  {
   "cell_type": "code",
   "execution_count": 1,
   "id": "ba162b0e-e136-49b1-b672-774605aed4ca",
   "metadata": {},
   "outputs": [
    {
     "data": {
      "text/plain": [
       "True"
      ]
     },
     "execution_count": 1,
     "metadata": {},
     "output_type": "execute_result"
    }
   ],
   "source": [
    "import os\n",
    "import dotenv\n",
    "\n",
    "dotenv.load_dotenv()"
   ]
  },
  {
   "cell_type": "code",
   "execution_count": 7,
   "id": "9aae822e-58f8-430c-838e-3f46fcd9ebc0",
   "metadata": {},
   "outputs": [],
   "source": [
    "from llama_index.embeddings.cohere import CohereEmbedding\n",
    "from llama_index.embeddings.openai import OpenAIEmbedding\n",
    "\n",
    "# embed_model = CohereEmbedding(cohere_api_key=os.environ[\"COHERE_API_KEY\"], model_name=\"embed-english-v3.0\")\n",
    "embed_model = OpenAIEmbedding(api_key=os.environ[\"OPENAI_API_KEY\"], model=\"text-embedding-3-small\")"
   ]
  },
  {
   "cell_type": "code",
   "execution_count": 68,
   "id": "cd04e4e4-178b-46df-a6e5-3decc5098e9f",
   "metadata": {
    "scrolled": true
   },
   "outputs": [
    {
     "data": {
      "text/plain": [
       "array([[0.83412097]])"
      ]
     },
     "execution_count": 68,
     "metadata": {},
     "output_type": "execute_result"
    }
   ],
   "source": [
    "from sklearn.metrics.pairwise import cosine_similarity\n",
    "\n",
    "import nest_asyncio; nest_asyncio.apply();\n",
    "\n",
    "text_a = \"\"\"\n",
    "25th percentile SAT Composite score 1300\n",
    "\"\"\"\n",
    "\n",
    "text_b = \"\"\"\n",
    "50th percentile SAT Composite score 1410\n",
    "\"\"\"\n",
    "\n",
    "text_a_embedding = await embed_model.aget_text_embedding(text_a)\n",
    "text_b_embedding = await embed_model.aget_text_embedding(text_b)\n",
    "\n",
    "cosine_similarity([text_a_embedding], [text_b_embedding])"
   ]
  },
  {
   "cell_type": "code",
   "execution_count": null,
   "id": "f726ee63-f646-489d-9ff5-c33b4b1b657f",
   "metadata": {},
   "outputs": [],
   "source": []
  }
 ],
 "metadata": {
  "kernelspec": {
   "display_name": "Python 3 (ipykernel)",
   "language": "python",
   "name": "python3"
  },
  "language_info": {
   "codemirror_mode": {
    "name": "ipython",
    "version": 3
   },
   "file_extension": ".py",
   "mimetype": "text/x-python",
   "name": "python",
   "nbconvert_exporter": "python",
   "pygments_lexer": "ipython3",
   "version": "3.11.4"
  }
 },
 "nbformat": 4,
 "nbformat_minor": 5
}
