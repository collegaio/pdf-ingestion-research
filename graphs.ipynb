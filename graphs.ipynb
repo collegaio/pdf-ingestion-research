{
 "cells": [
  {
   "cell_type": "code",
   "execution_count": 1,
   "id": "dfd60b43-a523-4608-a5b9-b62d89092e83",
   "metadata": {},
   "outputs": [
    {
     "data": {
      "text/plain": [
       "True"
      ]
     },
     "execution_count": 1,
     "metadata": {},
     "output_type": "execute_result"
    }
   ],
   "source": [
    "import os\n",
    "import dotenv\n",
    "\n",
    "dotenv.load_dotenv()"
   ]
  },
  {
   "cell_type": "code",
   "execution_count": 49,
   "id": "28dd8820-a7f2-49af-a00d-0faba0471df6",
   "metadata": {
    "scrolled": true
   },
   "outputs": [
    {
     "name": "stderr",
     "output_type": "stream",
     "text": [
      "Received notification from DBMS server: {severity: WARNING} {code: Neo.ClientNotification.Statement.FeatureDeprecationWarning} {category: DEPRECATION} {title: This feature is deprecated and will be removed in future versions.} {description: The procedure has a deprecated field. ('config' used by 'apoc.meta.graphSample' is deprecated.)} {position: line: 1, column: 1, offset: 0} for query: \"CALL apoc.meta.graphSample() YIELD nodes, relationships RETURN nodes, [rel in relationships | {name:apoc.any.property(rel, 'type'), count: apoc.any.property(rel, 'count')}] AS relationships\"\n",
      "Extracting paths from text: 100%|██████████████████████████████████████████████████████████████████████████████████████████| 74/74 [00:24<00:00,  3.04it/s]\n",
      "Extracting implicit paths: 100%|████████████████████████████████████████████████████████████████████████████████████████| 74/74 [00:00<00:00, 15050.11it/s]\n",
      "Generating embeddings: 100%|█████████████████████████████████████████████████████████████████████████████████████████████████| 8/8 [00:00<00:00, 14.37it/s]\n",
      "Generating embeddings: 100%|█████████████████████████████████████████████████████████████████████████████████████████████| 114/114 [00:05<00:00, 20.83it/s]\n",
      "Received notification from DBMS server: {severity: WARNING} {code: Neo.ClientNotification.Statement.FeatureDeprecationWarning} {category: DEPRECATION} {title: This feature is deprecated and will be removed in future versions.} {description: The procedure has a deprecated field. ('config' used by 'apoc.meta.graphSample' is deprecated.)} {position: line: 1, column: 1, offset: 0} for query: \"CALL apoc.meta.graphSample() YIELD nodes, relationships RETURN nodes, [rel in relationships | {name:apoc.any.property(rel, 'type'), count: apoc.any.property(rel, 'count')}] AS relationships\"\n"
     ]
    }
   ],
   "source": [
    "from llama_index.core import SimpleDirectoryReader, PropertyGraphIndex, KnowledgeGraphIndex\n",
    "from llama_index.core.ingestion import IngestionPipeline\n",
    "from llama_index.core.node_parser import MarkdownNodeParser\n",
    "\n",
    "from llama_index.llms.cohere import Cohere\n",
    "from llama_index.embeddings.cohere import CohereEmbedding\n",
    "\n",
    "from llama_index.graph_stores.neo4j import Neo4jPropertyGraphStore\n",
    "\n",
    "import nest_asyncio; nest_asyncio.apply()\n",
    "\n",
    "llm = Cohere(model=\"command-r\")\n",
    "embed_model = CohereEmbedding(model_name=\"embed-english-v3.0\")\n",
    "\n",
    "# load docs\n",
    "# create knowledge graph\n",
    "reader = SimpleDirectoryReader(\n",
    "    input_files=[\n",
    "        # \"datasets/cds/md/bama.md\",\n",
    "        # \"datasets/cds/md/mississippi-state.md\",\n",
    "        \"datasets/cds/md/nyu.md\",\n",
    "        # \"datasets/cds/md/uw-madison.md\",\n",
    "        # \"datasets/cds/md/penn-state.md\",\n",
    "    ],\n",
    ")\n",
    "\n",
    "documents = reader.load_data()\n",
    "\n",
    "pipeline = IngestionPipeline(\n",
    "    transformations=[MarkdownNodeParser()],\n",
    ")\n",
    "\n",
    "nodes = pipeline.run(documents=documents)\n",
    "\n",
    "graph_store = Neo4jPropertyGraphStore(\n",
    "    username=\"neo4j\",\n",
    "    password=\"llamaindex\",\n",
    "    url=\"bolt://localhost:7687\",\n",
    ")\n",
    "\n",
    "index = PropertyGraphIndex(\n",
    "    nodes,\n",
    "    llm=llm,\n",
    "    embed_model=embed_model,\n",
    "    property_graph_store=graph_store,\n",
    "    show_progress=True,\n",
    ")\n",
    "\n",
    "# index = KnowledgeGraphIndex(\n",
    "#     documents,\n",
    "#     llm=llm,\n",
    "#     embed_model=embed_model,\n",
    "#     show_progress=True,\n",
    "# )"
   ]
  },
  {
   "cell_type": "code",
   "execution_count": 57,
   "id": "d34f6a2c-7b9b-4574-b958-dd3f760a0813",
   "metadata": {},
   "outputs": [
    {
     "data": {
      "text/plain": [
       "[SimpleLLMPathExtractor(llm=Cohere(callback_manager=<llama_index.core.callbacks.base.CallbackManager object at 0x2b53bff50>, system_prompt=None, messages_to_prompt=<function messages_to_prompt at 0x16c8a59e0>, completion_to_prompt=<function default_completion_to_prompt at 0x16c950720>, output_parser=None, pydantic_program_mode=<PydanticProgramMode.DEFAULT: 'default'>, query_wrapper_prompt=None, model='command-r', temperature=None, max_retries=10, additional_kwargs={}, max_tokens=8192), extract_prompt=PromptTemplate(metadata={'prompt_type': <PromptType.KNOWLEDGE_TRIPLET_EXTRACT: 'knowledge_triplet_extract'>}, template_vars=['max_knowledge_triplets', 'text'], kwargs={}, output_parser=None, template_var_mappings=None, function_mappings=None, template=\"Some text is provided below. Given the text, extract up to {max_knowledge_triplets} knowledge triplets in the form of (subject, predicate, object). Avoid stopwords.\\n---------------------\\nExample:Text: Alice is Bob's mother.Triplets:\\n(Alice, is mother of, Bob)\\nText: Philz is a coffee shop founded in Berkeley in 1982.\\nTriplets:\\n(Philz, is, coffee shop)\\n(Philz, founded in, Berkeley)\\n(Philz, founded in, 1982)\\n---------------------\\nText: {text}\\nTriplets:\\n\"), parse_fn=<function default_parse_triplets_fn at 0x29d61cb80>, num_workers=4, max_paths_per_chunk=10),\n",
       " ImplicitPathExtractor()]"
      ]
     },
     "execution_count": 57,
     "metadata": {},
     "output_type": "execute_result"
    }
   ],
   "source": [
    "index._kg_extractors"
   ]
  },
  {
   "cell_type": "code",
   "execution_count": 47,
   "id": "078afffe-8b4b-4fad-ace5-e893b5ca2af2",
   "metadata": {
    "scrolled": true
   },
   "outputs": [
    {
     "data": {
      "text/plain": [
       "[NodeWithScore(node=TextNode(id_='fd7cf493-88cb-495c-9e07-7f72e6e3c116', embedding=None, metadata={'file_path': 'datasets/cds/md/nyu.md', 'file_name': 'nyu.md', 'file_size': 72624, 'creation_date': '2024-06-29', 'last_modified_date': '2024-06-26'}, excluded_embed_metadata_keys=['file_name', 'file_type', 'file_size', 'creation_date', 'last_modified_date', 'last_accessed_date'], excluded_llm_metadata_keys=['file_name', 'file_type', 'file_size', 'creation_date', 'last_modified_date', 'last_accessed_date'], relationships={<NodeRelationship.SOURCE: '1'>: RelatedNodeInfo(node_id='548b898d-e447-46cf-8b17-c069eae192cf', node_type=<ObjectType.DOCUMENT: '4'>, metadata={'file_path': 'datasets/cds/md/nyu.md', 'file_name': 'nyu.md', 'file_size': 72624, 'creation_date': '2024-06-29', 'last_modified_date': '2024-06-26'}, hash='7885a9bc980539ed6530d750bfba1ec31a0cf16220f3259e7f930f0627799f0b')}, text=\"Here are some facts extracted from the provided text:\\n\\nNyu -> Link for more info on postponement -> Https://www.nyu.edu/admissions/undergraduate-admissions/admitted-students/deferring-your-enrollment.html\\nNyu -> Instructed -> Instructional faculty\\nNyu -> Transfer credit policy -> Other credit policies\\nNyu -> Meets -> Full demonstrated need of traditional first-year undergraduate students\\nNyu -> Offers -> Doctoral degree - research/scholarship\\nNyu -> Latest date for sat/act scores -> January 31st\\nNyu -> Offers -> Certificate\\nNyu -> Offers -> Associate\\nNyu -> Implemented -> Nyu promise\\nNyu -> Offers -> Bachelor's\\nNyu -> Replaced -> Loans with grants\\nNyu -> Uses for placement -> Ap\\nNyu -> Uses for placement -> Institutional exam\\nNyu -> Offers -> Doctoral degree - professional practice\\nNyu -> Knows -> Class size\\nNyu -> Uses for placement -> Clep\\nNyu -> Dataset file path -> Datasets/cds/md/nyu.md\\nNyu -> Waived -> Costs for families below a certain income level\\nNyu -> Uses for placement -> Sat\\nNyu -> Offers -> Diploma\\nNyu -> Offers -> Master's\\nNyu -> Maximum period of postponement -> One year\\nNyu -> Uses for placement -> Act\\n\\nH15. Affordable Policies\\nIf your institution has recently implemented any major financial aid policy, program, or initiative to make your institution more affordable to incoming students such as replacing loans with grants, or waiving costs for families below a certain income level, please provide the details below:\\n\\nNYU now meets the full demonstrated need of our traditional first-year undergraduate students in New York without the expectation that students will take out loans. In addition, President Linda G. Mills expanded NYU's commitment to affordability through The NYU Promise, guaranteeing that every undergraduate - domestic and international - who started as a first year student admitted to our New York campus will not have to pay tuition if they have family income under $100,000 and hold typical assets and scholarships will be adjusted each year to meet annual tuition increases.# I. INSTRUCTIONAL FACULTY AND CLASS SIZE\", start_char_idx=2, end_char_idx=942, text_template='{metadata_str}\\n\\n{content}', metadata_template='{key}: {value}', metadata_seperator='\\n'), score=0.7903682589530945),\n",
       " NodeWithScore(node=TextNode(id_='b230124c-913f-4e2d-88a7-6bd98a6f18e3', embedding=None, metadata={'file_path': 'datasets/cds/md/nyu.md', 'file_name': 'nyu.md', 'file_size': 72624, 'creation_date': '2024-06-29', 'last_modified_date': '2024-06-26'}, excluded_embed_metadata_keys=['file_name', 'file_type', 'file_size', 'creation_date', 'last_modified_date', 'last_accessed_date'], excluded_llm_metadata_keys=['file_name', 'file_type', 'file_size', 'creation_date', 'last_modified_date', 'last_accessed_date'], relationships={<NodeRelationship.SOURCE: '1'>: RelatedNodeInfo(node_id='7f4f1292-a703-4db1-8af8-d514521a7485', node_type=<ObjectType.DOCUMENT: '4'>, metadata={'file_path': 'datasets/cds/md/nyu.md', 'file_name': 'nyu.md', 'file_size': 72624, 'creation_date': '2024-06-29', 'last_modified_date': '2024-06-26'}, hash='53f00f4c57277c9b100246da5b41bcc7dcfb3f6a3dca1f35096a3118d1fd600d')}, text=\"Here are some facts extracted from the provided text:\\n\\nDegree type -> Offered by -> Nyu\\nA5 -> Relates to -> Degrees offered by nyu\\n\\nA5. Degrees offered by your institution (select all that apply).\\n\\n| Degree Type |\\n| --- |\\n| Certificate |\\n| Diploma |\\n| Associate |\\n| Terminal |\\n| Transfer |\\n| Bachelor's |\\n| Post-Bachelor's certificate |\\n| Master's |\\n| Post-Master's certificate |\\n| Doctoral degree - research/scholarship |\\n| Doctoral degree - professional practice |\\n| Doctoral degree - other |\", start_char_idx=2, end_char_idx=364, text_template='{metadata_str}\\n\\n{content}', metadata_template='{key}: {value}', metadata_seperator='\\n'), score=0.7903682589530945),\n",
       " NodeWithScore(node=TextNode(id_='c65b0a9f-4e1d-4a03-a9c2-0b66c7b9a953', embedding=None, metadata={'file_path': 'datasets/cds/md/nyu.md', 'file_name': 'nyu.md', 'file_size': 72624, 'creation_date': '2024-06-29', 'last_modified_date': '2024-06-26'}, excluded_embed_metadata_keys=['file_name', 'file_type', 'file_size', 'creation_date', 'last_modified_date', 'last_accessed_date'], excluded_llm_metadata_keys=['file_name', 'file_type', 'file_size', 'creation_date', 'last_modified_date', 'last_accessed_date'], relationships={<NodeRelationship.SOURCE: '1'>: RelatedNodeInfo(node_id='f32d760e-23f5-4b2d-90a4-06e981c56845', node_type=<ObjectType.DOCUMENT: '4'>, metadata={'file_path': 'datasets/cds/md/nyu.md', 'file_name': 'nyu.md', 'file_size': 72624, 'creation_date': '2024-06-29', 'last_modified_date': '2024-06-26'}, hash='93a91a3bfcae16b182dace258e3f76492b5a636aa5888d567640ed7f0707f5ea')}, text='Here are some facts extracted from the provided text:\\n\\nE2 -> Is -> Nyu\\nCds -> Removed from -> Nyu.md\\nNyu.md -> Has_information_about -> Academic offerings\\nNyu.md -> Located_in -> Datasets/cds/md\\n\\nE2. Removed from the CDS.', start_char_idx=2, end_char_idx=27, text_template='{metadata_str}\\n\\n{content}', metadata_template='{key}: {value}', metadata_seperator='\\n'), score=0.7903682589530945),\n",
       " NodeWithScore(node=TextNode(id_='01e6a967-4485-4ad5-826a-b8e9c1c2e963', embedding=None, metadata={'file_path': 'datasets/cds/md/nyu.md', 'file_name': 'nyu.md', 'file_size': 72624, 'creation_date': '2024-06-29', 'last_modified_date': '2024-06-26'}, excluded_embed_metadata_keys=['file_name', 'file_type', 'file_size', 'creation_date', 'last_modified_date', 'last_accessed_date'], excluded_llm_metadata_keys=['file_name', 'file_type', 'file_size', 'creation_date', 'last_modified_date', 'last_accessed_date'], relationships={<NodeRelationship.SOURCE: '1'>: RelatedNodeInfo(node_id='252ea1e5-ce15-43a4-bec9-9f45670196a6', node_type=<ObjectType.DOCUMENT: '4'>, metadata={'file_path': 'datasets/cds/md/nyu.md', 'file_name': 'nyu.md', 'file_size': 72624, 'creation_date': '2024-06-29', 'last_modified_date': '2024-06-26'}, hash='e514bce95e8be5c0023a7f62209cdef98b47752698a3f9a250297f07b236cc61')}, text='Here are some facts extracted from the provided text:\\n\\nFour-year institutions -> Is -> Nyu\\n\\nD14. Maximum Credits Transferred to four-year institutions\\n\\nReport the maximum number of credits or courses that may be transferred from a four-year institution:\\n\\n| Number: | 64.0 | Unit Type: | Credit(s) |', start_char_idx=2, end_char_idx=208, text_template='{metadata_str}\\n\\n{content}', metadata_template='{key}: {value}', metadata_seperator='\\n'), score=0.7903682589530945)]"
      ]
     },
     "execution_count": 47,
     "metadata": {},
     "output_type": "execute_result"
    }
   ],
   "source": [
    "retriever = index.as_retriever(similarity_top_k=10)\n",
    "\n",
    "retriever.retrieve(\"what is the average GPA at nyu?\")"
   ]
  },
  {
   "cell_type": "code",
   "execution_count": 48,
   "id": "ad5a8552-37ca-4186-ab94-774a1a805fcf",
   "metadata": {
    "scrolled": true
   },
   "outputs": [
    {
     "data": {
      "text/plain": [
       "Response(response=\"Sorry, I couldn't find the average GPA score at NYU. However, I did find that NYU uses the SAT and ACT tests for placement and the latest date for these scores is January 31st.\", source_nodes=[NodeWithScore(node=TextNode(id_='1c00e647-7212-43e7-b342-ea198f98fb45', embedding=None, metadata={'file_path': 'datasets/cds/md/nyu.md', 'file_name': 'nyu.md', 'file_size': 72624, 'creation_date': '2024-06-29', 'last_modified_date': '2024-06-26'}, excluded_embed_metadata_keys=['file_name', 'file_type', 'file_size', 'creation_date', 'last_modified_date', 'last_accessed_date'], excluded_llm_metadata_keys=['file_name', 'file_type', 'file_size', 'creation_date', 'last_modified_date', 'last_accessed_date'], relationships={<NodeRelationship.SOURCE: '1'>: RelatedNodeInfo(node_id='d64e0977-ea46-4840-90fe-84b0527c2392', node_type=<ObjectType.DOCUMENT: '4'>, metadata={'file_path': 'datasets/cds/md/nyu.md', 'file_name': 'nyu.md', 'file_size': 72624, 'creation_date': '2024-06-29', 'last_modified_date': '2024-06-26'}, hash='9e3b25652079d234ec829fb942c4101c9fcdeaa5de0d497d7fcdfcd750fe12e2')}, text=\"Here are some facts extracted from the provided text:\\n\\nNew york university -> Phone number -> 212-998-1212\\nNew york university -> Admissions zip -> 10003\\nNew york university -> Located in -> New york city\\nNew york university -> Admissions city -> New york\\nNew york university -> Country -> United states\\nNew york university -> Online application url -> Https://www.nyu.edu/admissions/undergraduate-admissions/how-to-apply.html\\nNew york university -> Zip code -> 10013\\nNew york university -> Admissions address -> 383 lafayette street\\nNew york university -> Has address -> 70 washington square south\\nNew york university -> Admissions state -> New york\\nNew york university -> Website -> Www.nyu.edu\\n\\nA1. Address Information\\n\\nPlease enter general institution information below:\\n\\n| Field | Value |\\n| --- | --- |\\n| Name of College or University | New York University |\\n| Street Address: | 70 Washington Square South |\\n| City: | |\\n| State: | |\\n| Zip: | |\\n| Country: | |\\n| Main Institution Phone Number: | (212) 998-1212 |\\n| Main Institution Website: | www.nyu.edu |\\n| Main Institution Email: | |\\n\\nPlease enter Admissions Office information below:\\n\\n| Field | Value |\\n| --- | --- |\\n| Street Address: | 383 Lafayette Street |\\n| City: | New York |\\n| State: | New York |\\n| Zip: | 10003 |\\n| Country: | United States |\\n| Admissions Phone Number: | (212) 998-4500 |\\n| Admissions Toll-free Number: | |\\n| Admissions Website: | https://www.nyu.edu/admissions/undergraduate-admissions.html |\\n| Admissions Email Address: | admissions@nyu.edu |\\n\\nIs there a separate URL for your school's online application? If yes, please specify:\\nhttps://www.nyu.edu/admissions/undergraduate-admissions/how-to-apply.html\\n\\nIf you have a mailing address other than the one listed above to which applications should be sent, please provide:\\n(No additional mailing address provided)# Section A\", start_char_idx=2, end_char_idx=1158, text_template='{metadata_str}\\n\\n{content}', metadata_template='{key}: {value}', metadata_seperator='\\n'), score=1.0), NodeWithScore(node=TextNode(id_='fd7cf493-88cb-495c-9e07-7f72e6e3c116', embedding=None, metadata={'file_path': 'datasets/cds/md/nyu.md', 'file_name': 'nyu.md', 'file_size': 72624, 'creation_date': '2024-06-29', 'last_modified_date': '2024-06-26'}, excluded_embed_metadata_keys=['file_name', 'file_type', 'file_size', 'creation_date', 'last_modified_date', 'last_accessed_date'], excluded_llm_metadata_keys=['file_name', 'file_type', 'file_size', 'creation_date', 'last_modified_date', 'last_accessed_date'], relationships={<NodeRelationship.SOURCE: '1'>: RelatedNodeInfo(node_id='548b898d-e447-46cf-8b17-c069eae192cf', node_type=<ObjectType.DOCUMENT: '4'>, metadata={'file_path': 'datasets/cds/md/nyu.md', 'file_name': 'nyu.md', 'file_size': 72624, 'creation_date': '2024-06-29', 'last_modified_date': '2024-06-26'}, hash='7885a9bc980539ed6530d750bfba1ec31a0cf16220f3259e7f930f0627799f0b')}, text=\"Here are some facts extracted from the provided text:\\n\\nNyu -> Link for more info on postponement -> Https://www.nyu.edu/admissions/undergraduate-admissions/admitted-students/deferring-your-enrollment.html\\nNyu -> Instructed -> Instructional faculty\\nNyu -> Transfer credit policy -> Other credit policies\\nNyu -> Meets -> Full demonstrated need of traditional first-year undergraduate students\\nNyu -> Offers -> Doctoral degree - research/scholarship\\nNyu -> Latest date for sat/act scores -> January 31st\\nNyu -> Offers -> Certificate\\nNyu -> Offers -> Associate\\nNyu -> Implemented -> Nyu promise\\nNyu -> Offers -> Bachelor's\\nNyu -> Replaced -> Loans with grants\\nNyu -> Uses for placement -> Ap\\nNyu -> Uses for placement -> Institutional exam\\nNyu -> Offers -> Doctoral degree - professional practice\\nNyu -> Knows -> Class size\\nNyu -> Uses for placement -> Clep\\nNyu -> Dataset file path -> Datasets/cds/md/nyu.md\\n\\nH15. Affordable Policies\\nIf your institution has recently implemented any major financial aid policy, program, or initiative to make your institution more affordable to incoming students such as replacing loans with grants, or waiving costs for families below a certain income level, please provide the details below:\\n\\nNYU now meets the full demonstrated need of our traditional first-year undergraduate students in New York without the expectation that students will take out loans. In addition, President Linda G. Mills expanded NYU's commitment to affordability through The NYU Promise, guaranteeing that every undergraduate - domestic and international - who started as a first year student admitted to our New York campus will not have to pay tuition if they have family income under $100,000 and hold typical assets and scholarships will be adjusted each year to meet annual tuition increases.# I. INSTRUCTIONAL FACULTY AND CLASS SIZE\", start_char_idx=2, end_char_idx=942, text_template='{metadata_str}\\n\\n{content}', metadata_template='{key}: {value}', metadata_seperator='\\n'), score=1.0), NodeWithScore(node=TextNode(id_='b230124c-913f-4e2d-88a7-6bd98a6f18e3', embedding=None, metadata={'file_path': 'datasets/cds/md/nyu.md', 'file_name': 'nyu.md', 'file_size': 72624, 'creation_date': '2024-06-29', 'last_modified_date': '2024-06-26'}, excluded_embed_metadata_keys=['file_name', 'file_type', 'file_size', 'creation_date', 'last_modified_date', 'last_accessed_date'], excluded_llm_metadata_keys=['file_name', 'file_type', 'file_size', 'creation_date', 'last_modified_date', 'last_accessed_date'], relationships={<NodeRelationship.SOURCE: '1'>: RelatedNodeInfo(node_id='7f4f1292-a703-4db1-8af8-d514521a7485', node_type=<ObjectType.DOCUMENT: '4'>, metadata={'file_path': 'datasets/cds/md/nyu.md', 'file_name': 'nyu.md', 'file_size': 72624, 'creation_date': '2024-06-29', 'last_modified_date': '2024-06-26'}, hash='53f00f4c57277c9b100246da5b41bcc7dcfb3f6a3dca1f35096a3118d1fd600d')}, text=\"Here are some facts extracted from the provided text:\\n\\nDegree type -> Offered by -> Nyu\\n\\nA5. Degrees offered by your institution (select all that apply).\\n\\n| Degree Type |\\n| --- |\\n| Certificate |\\n| Diploma |\\n| Associate |\\n| Terminal |\\n| Transfer |\\n| Bachelor's |\\n| Post-Bachelor's certificate |\\n| Master's |\\n| Post-Master's certificate |\\n| Doctoral degree - research/scholarship |\\n| Doctoral degree - professional practice |\\n| Doctoral degree - other |\", start_char_idx=2, end_char_idx=364, text_template='{metadata_str}\\n\\n{content}', metadata_template='{key}: {value}', metadata_seperator='\\n'), score=1.0), NodeWithScore(node=TextNode(id_='c65b0a9f-4e1d-4a03-a9c2-0b66c7b9a953', embedding=None, metadata={'file_path': 'datasets/cds/md/nyu.md', 'file_name': 'nyu.md', 'file_size': 72624, 'creation_date': '2024-06-29', 'last_modified_date': '2024-06-26'}, excluded_embed_metadata_keys=['file_name', 'file_type', 'file_size', 'creation_date', 'last_modified_date', 'last_accessed_date'], excluded_llm_metadata_keys=['file_name', 'file_type', 'file_size', 'creation_date', 'last_modified_date', 'last_accessed_date'], relationships={<NodeRelationship.SOURCE: '1'>: RelatedNodeInfo(node_id='f32d760e-23f5-4b2d-90a4-06e981c56845', node_type=<ObjectType.DOCUMENT: '4'>, metadata={'file_path': 'datasets/cds/md/nyu.md', 'file_name': 'nyu.md', 'file_size': 72624, 'creation_date': '2024-06-29', 'last_modified_date': '2024-06-26'}, hash='93a91a3bfcae16b182dace258e3f76492b5a636aa5888d567640ed7f0707f5ea')}, text='Here are some facts extracted from the provided text:\\n\\nE2 -> Is -> Nyu\\n\\nE2. Removed from the CDS.', start_char_idx=2, end_char_idx=27, text_template='{metadata_str}\\n\\n{content}', metadata_template='{key}: {value}', metadata_seperator='\\n'), score=1.0), NodeWithScore(node=TextNode(id_='fd7cf493-88cb-495c-9e07-7f72e6e3c116', embedding=None, metadata={'file_path': 'datasets/cds/md/nyu.md', 'file_name': 'nyu.md', 'file_size': 72624, 'creation_date': '2024-06-29', 'last_modified_date': '2024-06-26'}, excluded_embed_metadata_keys=['file_name', 'file_type', 'file_size', 'creation_date', 'last_modified_date', 'last_accessed_date'], excluded_llm_metadata_keys=['file_name', 'file_type', 'file_size', 'creation_date', 'last_modified_date', 'last_accessed_date'], relationships={<NodeRelationship.SOURCE: '1'>: RelatedNodeInfo(node_id='548b898d-e447-46cf-8b17-c069eae192cf', node_type=<ObjectType.DOCUMENT: '4'>, metadata={'file_path': 'datasets/cds/md/nyu.md', 'file_name': 'nyu.md', 'file_size': 72624, 'creation_date': '2024-06-29', 'last_modified_date': '2024-06-26'}, hash='7885a9bc980539ed6530d750bfba1ec31a0cf16220f3259e7f930f0627799f0b')}, text=\"Here are some facts extracted from the provided text:\\n\\nNyu -> Link for more info on postponement -> Https://www.nyu.edu/admissions/undergraduate-admissions/admitted-students/deferring-your-enrollment.html\\nNyu -> Instructed -> Instructional faculty\\nNyu -> Transfer credit policy -> Other credit policies\\nNyu -> Meets -> Full demonstrated need of traditional first-year undergraduate students\\nNyu -> Offers -> Doctoral degree - research/scholarship\\nNyu -> Latest date for sat/act scores -> January 31st\\nNyu -> Offers -> Certificate\\nNyu -> Offers -> Associate\\nNyu -> Implemented -> Nyu promise\\nNyu -> Offers -> Bachelor's\\nNyu -> Replaced -> Loans with grants\\nNyu -> Uses for placement -> Ap\\nNyu -> Uses for placement -> Institutional exam\\nNyu -> Offers -> Doctoral degree - professional practice\\nNyu -> Knows -> Class size\\nNyu -> Uses for placement -> Clep\\nNyu -> Dataset file path -> Datasets/cds/md/nyu.md\\nNyu -> Waived -> Costs for families below a certain income level\\nNyu -> Uses for placement -> Sat\\nNyu -> Offers -> Diploma\\nNyu -> Offers -> Master's\\nNyu -> Maximum period of postponement -> One year\\nNyu -> Uses for placement -> Act\\n\\nH15. Affordable Policies\\nIf your institution has recently implemented any major financial aid policy, program, or initiative to make your institution more affordable to incoming students such as replacing loans with grants, or waiving costs for families below a certain income level, please provide the details below:\\n\\nNYU now meets the full demonstrated need of our traditional first-year undergraduate students in New York without the expectation that students will take out loans. In addition, President Linda G. Mills expanded NYU's commitment to affordability through The NYU Promise, guaranteeing that every undergraduate - domestic and international - who started as a first year student admitted to our New York campus will not have to pay tuition if they have family income under $100,000 and hold typical assets and scholarships will be adjusted each year to meet annual tuition increases.# I. INSTRUCTIONAL FACULTY AND CLASS SIZE\", start_char_idx=2, end_char_idx=942, text_template='{metadata_str}\\n\\n{content}', metadata_template='{key}: {value}', metadata_seperator='\\n'), score=0.7847397923469543), NodeWithScore(node=TextNode(id_='b230124c-913f-4e2d-88a7-6bd98a6f18e3', embedding=None, metadata={'file_path': 'datasets/cds/md/nyu.md', 'file_name': 'nyu.md', 'file_size': 72624, 'creation_date': '2024-06-29', 'last_modified_date': '2024-06-26'}, excluded_embed_metadata_keys=['file_name', 'file_type', 'file_size', 'creation_date', 'last_modified_date', 'last_accessed_date'], excluded_llm_metadata_keys=['file_name', 'file_type', 'file_size', 'creation_date', 'last_modified_date', 'last_accessed_date'], relationships={<NodeRelationship.SOURCE: '1'>: RelatedNodeInfo(node_id='7f4f1292-a703-4db1-8af8-d514521a7485', node_type=<ObjectType.DOCUMENT: '4'>, metadata={'file_path': 'datasets/cds/md/nyu.md', 'file_name': 'nyu.md', 'file_size': 72624, 'creation_date': '2024-06-29', 'last_modified_date': '2024-06-26'}, hash='53f00f4c57277c9b100246da5b41bcc7dcfb3f6a3dca1f35096a3118d1fd600d')}, text=\"Here are some facts extracted from the provided text:\\n\\nDegree type -> Offered by -> Nyu\\nA5 -> Relates to -> Degrees offered by nyu\\n\\nA5. Degrees offered by your institution (select all that apply).\\n\\n| Degree Type |\\n| --- |\\n| Certificate |\\n| Diploma |\\n| Associate |\\n| Terminal |\\n| Transfer |\\n| Bachelor's |\\n| Post-Bachelor's certificate |\\n| Master's |\\n| Post-Master's certificate |\\n| Doctoral degree - research/scholarship |\\n| Doctoral degree - professional practice |\\n| Doctoral degree - other |\", start_char_idx=2, end_char_idx=364, text_template='{metadata_str}\\n\\n{content}', metadata_template='{key}: {value}', metadata_seperator='\\n'), score=0.7847397923469543), NodeWithScore(node=TextNode(id_='c65b0a9f-4e1d-4a03-a9c2-0b66c7b9a953', embedding=None, metadata={'file_path': 'datasets/cds/md/nyu.md', 'file_name': 'nyu.md', 'file_size': 72624, 'creation_date': '2024-06-29', 'last_modified_date': '2024-06-26'}, excluded_embed_metadata_keys=['file_name', 'file_type', 'file_size', 'creation_date', 'last_modified_date', 'last_accessed_date'], excluded_llm_metadata_keys=['file_name', 'file_type', 'file_size', 'creation_date', 'last_modified_date', 'last_accessed_date'], relationships={<NodeRelationship.SOURCE: '1'>: RelatedNodeInfo(node_id='f32d760e-23f5-4b2d-90a4-06e981c56845', node_type=<ObjectType.DOCUMENT: '4'>, metadata={'file_path': 'datasets/cds/md/nyu.md', 'file_name': 'nyu.md', 'file_size': 72624, 'creation_date': '2024-06-29', 'last_modified_date': '2024-06-26'}, hash='93a91a3bfcae16b182dace258e3f76492b5a636aa5888d567640ed7f0707f5ea')}, text='Here are some facts extracted from the provided text:\\n\\nE2 -> Is -> Nyu\\nCds -> Removed from -> Nyu.md\\nNyu.md -> Has_information_about -> Academic offerings\\nNyu.md -> Located_in -> Datasets/cds/md\\n\\nE2. Removed from the CDS.', start_char_idx=2, end_char_idx=27, text_template='{metadata_str}\\n\\n{content}', metadata_template='{key}: {value}', metadata_seperator='\\n'), score=0.7847397923469543), NodeWithScore(node=TextNode(id_='01e6a967-4485-4ad5-826a-b8e9c1c2e963', embedding=None, metadata={'file_path': 'datasets/cds/md/nyu.md', 'file_name': 'nyu.md', 'file_size': 72624, 'creation_date': '2024-06-29', 'last_modified_date': '2024-06-26'}, excluded_embed_metadata_keys=['file_name', 'file_type', 'file_size', 'creation_date', 'last_modified_date', 'last_accessed_date'], excluded_llm_metadata_keys=['file_name', 'file_type', 'file_size', 'creation_date', 'last_modified_date', 'last_accessed_date'], relationships={<NodeRelationship.SOURCE: '1'>: RelatedNodeInfo(node_id='252ea1e5-ce15-43a4-bec9-9f45670196a6', node_type=<ObjectType.DOCUMENT: '4'>, metadata={'file_path': 'datasets/cds/md/nyu.md', 'file_name': 'nyu.md', 'file_size': 72624, 'creation_date': '2024-06-29', 'last_modified_date': '2024-06-26'}, hash='e514bce95e8be5c0023a7f62209cdef98b47752698a3f9a250297f07b236cc61')}, text='Here are some facts extracted from the provided text:\\n\\nFour-year institutions -> Is -> Nyu\\n\\nD14. Maximum Credits Transferred to four-year institutions\\n\\nReport the maximum number of credits or courses that may be transferred from a four-year institution:\\n\\n| Number: | 64.0 | Unit Type: | Credit(s) |', start_char_idx=2, end_char_idx=208, text_template='{metadata_str}\\n\\n{content}', metadata_template='{key}: {value}', metadata_seperator='\\n'), score=0.7847397923469543)], metadata={'1c00e647-7212-43e7-b342-ea198f98fb45': {'file_path': 'datasets/cds/md/nyu.md', 'file_name': 'nyu.md', 'file_size': 72624, 'creation_date': '2024-06-29', 'last_modified_date': '2024-06-26'}, 'fd7cf493-88cb-495c-9e07-7f72e6e3c116': {'file_path': 'datasets/cds/md/nyu.md', 'file_name': 'nyu.md', 'file_size': 72624, 'creation_date': '2024-06-29', 'last_modified_date': '2024-06-26'}, 'b230124c-913f-4e2d-88a7-6bd98a6f18e3': {'file_path': 'datasets/cds/md/nyu.md', 'file_name': 'nyu.md', 'file_size': 72624, 'creation_date': '2024-06-29', 'last_modified_date': '2024-06-26'}, 'c65b0a9f-4e1d-4a03-a9c2-0b66c7b9a953': {'file_path': 'datasets/cds/md/nyu.md', 'file_name': 'nyu.md', 'file_size': 72624, 'creation_date': '2024-06-29', 'last_modified_date': '2024-06-26'}, '01e6a967-4485-4ad5-826a-b8e9c1c2e963': {'file_path': 'datasets/cds/md/nyu.md', 'file_name': 'nyu.md', 'file_size': 72624, 'creation_date': '2024-06-29', 'last_modified_date': '2024-06-26'}})"
      ]
     },
     "execution_count": 48,
     "metadata": {},
     "output_type": "execute_result"
    }
   ],
   "source": [
    "chat_engine = index.as_query_engine(llm=llm)\n",
    "\n",
    "chat_engine.query(\"What is the average GPA score at nyu?\")"
   ]
  },
  {
   "cell_type": "code",
   "execution_count": null,
   "id": "12549349-d5c2-451d-97de-eb7b07a5f88e",
   "metadata": {},
   "outputs": [],
   "source": []
  }
 ],
 "metadata": {
  "kernelspec": {
   "display_name": "Python 3 (ipykernel)",
   "language": "python",
   "name": "python3"
  },
  "language_info": {
   "codemirror_mode": {
    "name": "ipython",
    "version": 3
   },
   "file_extension": ".py",
   "mimetype": "text/x-python",
   "name": "python",
   "nbconvert_exporter": "python",
   "pygments_lexer": "ipython3",
   "version": "3.11.4"
  }
 },
 "nbformat": 4,
 "nbformat_minor": 5
}
