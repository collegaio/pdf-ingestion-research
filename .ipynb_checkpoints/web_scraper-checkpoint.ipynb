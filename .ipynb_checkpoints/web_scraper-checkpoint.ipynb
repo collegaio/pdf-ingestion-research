{
 "cells": [
  {
   "cell_type": "code",
   "execution_count": 4,
   "id": "89ba74a3-60b0-4bb8-bd5d-1da6daa83aa7",
   "metadata": {},
   "outputs": [
    {
     "data": {
      "text/plain": [
       "True"
      ]
     },
     "execution_count": 4,
     "metadata": {},
     "output_type": "execute_result"
    }
   ],
   "source": [
    "import os\n",
    "import dotenv\n",
    "\n",
    "dotenv.load_dotenv()"
   ]
  },
  {
   "cell_type": "code",
   "execution_count": 42,
   "id": "81e34cc7-5a38-4b40-ad8e-e5d331dd1ce1",
   "metadata": {
    "scrolled": true
   },
   "outputs": [
    {
     "name": "stdout",
     "output_type": "stream",
     "text": [
      "[]\n"
     ]
    }
   ],
   "source": [
    "# from llama_index.readers.web import SimpleWebPageReader\n",
    "from llama_index.readers.web import SpiderWebReader\n",
    "import requests\n",
    "\n",
    "spider_reader = SpiderWebReader(\n",
    "    api_key=os.environ['SPIDER_API_KEY'],  # Get one at https://spider.cloud\n",
    "    mode=\"crawl\",\n",
    "    # mode=\"scrape\",\n",
    "    params={\n",
    "        \"limit\": 1,\n",
    "        \"anti_bot\": True,\n",
    "    }\n",
    ")\n",
    "\n",
    "documents = spider_reader.load_data(url=\"https://www.bls.gov/ooh/architecture-and-engineering/aerospace-engineers.htm\")\n",
    "print(documents)"
   ]
  },
  {
   "cell_type": "code",
   "execution_count": 37,
   "id": "981b1ea3-bc69-4607-b3ea-d2f47971a4a8",
   "metadata": {},
   "outputs": [
    {
     "name": "stderr",
     "output_type": "stream",
     "text": [
      "/var/folders/fb/y8c4qgzx1qx0nnnhwcvm9h4c0000gp/T/ipykernel_19845/2535311112.py:12: DeprecationWarning: Call to deprecated class method from_defaults. (ServiceContext is deprecated, please use `llama_index.settings.Settings` instead.) -- Deprecated since version 0.10.0.\n",
      "  service_context = ServiceContext.from_defaults(\n"
     ]
    },
    {
     "data": {
      "text/plain": [
       "Response(response='Empty Response', source_nodes=[], metadata=None)"
      ]
     },
     "execution_count": 37,
     "metadata": {},
     "output_type": "execute_result"
    }
   ],
   "source": [
    "from llama_index.core import SummaryIndex, VectorStoreIndex, ServiceContext\n",
    "from llama_index.llms.cohere import Cohere\n",
    "from llama_index.embeddings.cohere import CohereEmbedding\n",
    "\n",
    "llm = Cohere(model=\"command-r-plus\", api_key=os.environ['COHERE_API_KEY'])\n",
    "embed_model = CohereEmbedding(\n",
    "    cohere_api_key=os.environ[\"COHERE_API_KEY\"],\n",
    "    model_name=\"embed-english-v3.0\",\n",
    "    input_type=\"search_query\",\n",
    ")\n",
    "\n",
    "service_context = ServiceContext.from_defaults(\n",
    "    llm=llm,\n",
    "    embed_model=embed_model\n",
    ")\n",
    "\n",
    "index = VectorStoreIndex.from_documents(documents=documents, service_context=service_context)\n",
    "\n",
    "query_engine = index.as_query_engine()\n",
    "query_engine.query(\"are djs a growing field?\")"
   ]
  },
  {
   "cell_type": "code",
   "execution_count": null,
   "id": "03acf681-88af-4e14-95ea-650843657b5f",
   "metadata": {},
   "outputs": [],
   "source": []
  }
 ],
 "metadata": {
  "kernelspec": {
   "display_name": "Python 3 (ipykernel)",
   "language": "python",
   "name": "python3"
  },
  "language_info": {
   "codemirror_mode": {
    "name": "ipython",
    "version": 3
   },
   "file_extension": ".py",
   "mimetype": "text/x-python",
   "name": "python",
   "nbconvert_exporter": "python",
   "pygments_lexer": "ipython3",
   "version": "3.11.4"
  }
 },
 "nbformat": 4,
 "nbformat_minor": 5
}
