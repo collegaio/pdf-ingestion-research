{
 "cells": [
  {
   "cell_type": "code",
   "execution_count": 1,
   "id": "ba162b0e-e136-49b1-b672-774605aed4ca",
   "metadata": {},
   "outputs": [
    {
     "data": {
      "text/plain": [
       "True"
      ]
     },
     "execution_count": 1,
     "metadata": {},
     "output_type": "execute_result"
    }
   ],
   "source": [
    "import os\n",
    "import dotenv\n",
    "\n",
    "dotenv.load_dotenv()"
   ]
  },
  {
   "cell_type": "code",
   "execution_count": 2,
   "id": "9aae822e-58f8-430c-838e-3f46fcd9ebc0",
   "metadata": {},
   "outputs": [
    {
     "name": "stderr",
     "output_type": "stream",
     "text": [
      "[nltk_data] Downloading package punkt_tab to /Users/jeremy.herzog/.pye\n",
      "[nltk_data]     nv/versions/3.11.4/lib/python3.11/site-\n",
      "[nltk_data]     packages/llama_index/core/_static/nltk_cache...\n",
      "[nltk_data]   Package punkt_tab is already up-to-date!\n"
     ]
    }
   ],
   "source": [
    "from llama_index.embeddings.cohere import CohereEmbedding\n",
    "from llama_index.embeddings.openai import OpenAIEmbedding\n",
    "\n",
    "embed_model = CohereEmbedding(cohere_api_key=os.environ[\"COHERE_API_KEY\"], model_name=\"embed-english-v3.0\")\n",
    "# embed_model = OpenAIEmbedding(api_key=os.environ[\"OPENAI_API_KEY\"], model=\"text-embedding-3-small\")"
   ]
  },
  {
   "cell_type": "code",
   "execution_count": 13,
   "id": "cd04e4e4-178b-46df-a6e5-3decc5098e9f",
   "metadata": {
    "scrolled": true
   },
   "outputs": [
    {
     "data": {
      "text/plain": [
       "array([[0.38467444]])"
      ]
     },
     "execution_count": 13,
     "metadata": {},
     "output_type": "execute_result"
    }
   ],
   "source": [
    "from sklearn.metrics.pairwise import cosine_similarity\n",
    "\n",
    "import nest_asyncio; nest_asyncio.apply();\n",
    "\n",
    "text_a = \"\"\"\n",
    "schools located in the south\n",
    "\"\"\"\n",
    "\n",
    "text_b = \"\"\"\n",
    "RUTGERS UNIVERSITY\n",
    "\"\"\"\n",
    "\n",
    "text_a_embedding = await embed_model.aget_text_embedding(text_a)\n",
    "text_b_embedding = await embed_model.aget_text_embedding(text_b)\n",
    "\n",
    "cosine_similarity([text_a_embedding], [text_b_embedding])"
   ]
  },
  {
   "cell_type": "code",
   "execution_count": 14,
   "id": "f726ee63-f646-489d-9ff5-c33b4b1b657f",
   "metadata": {
    "scrolled": true
   },
   "outputs": [
    {
     "data": {
      "text/plain": [
       "[('University of Rochester', 0.351378258943712),\n",
       " ('University of Florida - Main Campus', 0.3736843434440817),\n",
       " ('University of Dayton', 0.35141424456430037),\n",
       " ('California Polytechnic State University', 0.34711328641674155),\n",
       " ('Baylor University', 0.3592961124255179),\n",
       " ('Pomona College', 0.36098847484518576),\n",
       " ('Iowa State University', 0.3462973014566052),\n",
       " ('University of California, Santa Barbara', 0.3524067163775816),\n",
       " ('Boston College', 0.3604330517649026),\n",
       " ('College of the Holy Cross', 0.3578833288028056),\n",
       " ('Babson College', 0.3709132226844557),\n",
       " ('University of California, San Diego', 0.36263622391756867),\n",
       " ('The University of North Carolina at Charlotte', 0.3171878842252406),\n",
       " ('University of Michigan', 0.36660349028630757),\n",
       " ('Duke University', 0.30815139321352125),\n",
       " ('Brown University', 0.36234695227315067),\n",
       " ('Williams College', 0.3659580377666173),\n",
       " ('University of Richmond', 0.35537008648104446),\n",
       " ('Lafayette College', 0.37132901025272097),\n",
       " ('University of Nevada, Las Vegas', 0.3444845761002209),\n",
       " ('Harvard University', 0.34480515793265387),\n",
       " ('Marquette University', 0.3431481698321426),\n",
       " ('Clemson University', 0.3111742220750038)]"
      ]
     },
     "execution_count": 14,
     "metadata": {},
     "output_type": "execute_result"
    }
   ],
   "source": [
    "column_names = [\n",
    "    \"University of Rochester\",\n",
    "    \"University of Florida - Main Campus\",\n",
    "    \"University of Dayton\",\n",
    "    \"California Polytechnic State University\",\n",
    "    \"Baylor University\",\n",
    "    \"Pomona College\",\n",
    "    \"Iowa State University\",\n",
    "    \"University of California, Santa Barbara\",\n",
    "    \"Boston College\",\n",
    "    \"College of the Holy Cross\",\n",
    "    \"Babson College\",\n",
    "    \"University of California, San Diego\",\n",
    "    \"The University of North Carolina at Charlotte\",\n",
    "    \"University of Michigan\",\n",
    "    \"Duke University\",\n",
    "    \"Brown University\",\n",
    "    \"Williams College\",\n",
    "    \"University of Richmond\",\n",
    "    \"Lafayette College\",\n",
    "    \"University of Nevada, Las Vegas\",\n",
    "    \"Harvard University\",\n",
    "    \"Marquette University\",\n",
    "    \"Clemson University\"\n",
    "]\n",
    "\n",
    "\n",
    "node_text = \"\"\"\n",
    "Which schools are meet the following geographic preference criteria?\n",
    "\n",
    "* The South\n",
    "\"\"\"\n",
    "\n",
    "column_embeddings = await embed_model.aget_text_embedding_batch(texts=column_names)\n",
    "text_embedding = await embed_model.aget_text_embedding(node_text)\n",
    "\n",
    "cosine_sims = cosine_similarity([text_embedding], column_embeddings)\n",
    "column_sims = []\n",
    "\n",
    "for text_sims in cosine_sims:\n",
    "    for j, text_sim in enumerate(text_sims):\n",
    "        column_sims.append((column_names[j], text_sim))\n",
    "\n",
    "column_sims"
   ]
  },
  {
   "cell_type": "code",
   "execution_count": 15,
   "id": "734d42e2-ad0e-41fa-ba15-6f6cbdd96930",
   "metadata": {},
   "outputs": [
    {
     "name": "stdout",
     "output_type": "stream",
     "text": [
      "('percent_who_had_gpa_between_1_0_and_1_99', 0.601285067489364)\n"
     ]
    }
   ],
   "source": [
    "import numpy as np\n",
    "\n",
    "max_idx = np.argmax(cosine_sims, axis=1)[0]\n",
    "print(column_sims[max_idx])"
   ]
  },
  {
   "cell_type": "code",
   "execution_count": 6,
   "id": "b9a87171-78e5-49e9-925c-5a12a441efab",
   "metadata": {
    "scrolled": true
   },
   "outputs": [
    {
     "name": "stdout",
     "output_type": "stream",
     "text": [
      "[ 0 12 21]\n"
     ]
    },
    {
     "data": {
      "text/plain": [
       "{0: [('degrees_offered_certificate', 0.2548387515735656),\n",
       "  ('degrees_offered_diploma', 0.30530242081179576),\n",
       "  ('degrees_offered_associate', 0.29446668639876394),\n",
       "  ('degrees_offered_bachelor', 0.3227382133176331),\n",
       "  ('degrees_offered_postbachelors_certificate', 0.284919736175609),\n",
       "  ('degrees_offered_master', 0.3043138847067871),\n",
       "  ('degrees_offered_doctoral_degree_research_scholarship', 0.2297179743241619),\n",
       "  ('full_time_total_degree_seeking_men', 0.22121428494004153),\n",
       "  ('full_time_total_degree_seeking_women', 0.23410032738982012),\n",
       "  ('part_time_total_degree_seeking_men', 0.21642238978583161),\n",
       "  ('part_time_total_degree_seeking_women', 0.23503888857584093)],\n",
       " 1: [('score_range_sat_math_200_299_percent', 0.4452242797935162),\n",
       "  ('score_range_act_composite_30_36_percent', 0.37070506928716707),\n",
       "  ('score_range_act_english_30_36_percent', 0.38795881369784346),\n",
       "  ('score_range_act_math_30_36_percent', 0.4243276535445679),\n",
       "  ('score_range_act_composite_24_29_percent', 0.37615780459367826),\n",
       "  ('score_range_act_english_24_29_percent', 0.3961174608746474)],\n",
       " 2: [('percent_who_had_gpa_of_4', 0.5632066704592831),\n",
       "  ('percent_who_had_gpa_between_3_75_and_3_99', 0.5828313567541883),\n",
       "  ('percent_who_had_gpa_between_3_50_and_3_74', 0.5917935769697924),\n",
       "  ('percent_who_had_gpa_between_3_25_and_3_49', 0.5940490744743664),\n",
       "  ('percent_who_had_gpa_between_3_00_and_3_24', 0.5854920860592666),\n",
       "  ('percent_who_had_gpa_between_2_50_and_2_99', 0.5834674695539106),\n",
       "  ('percent_who_had_gpa_between_2_0_and_2_49', 0.5881357542287242),\n",
       "  ('percent_who_had_gpa_between_1_0_and_1_99', 0.601285067489364)]}"
      ]
     },
     "execution_count": 6,
     "metadata": {},
     "output_type": "execute_result"
    }
   ],
   "source": [
    "from sklearn.cluster import affinity_propagation\n",
    "from sklearn.metrics.pairwise import euclidean_distances\n",
    "\n",
    "# cosine_sims[0].reshape(-1, 1)\n",
    "S = -euclidean_distances(cosine_sims[0].reshape(-1, 1), squared=True)\n",
    "# S\n",
    "cluster_centers_indices, labels = affinity_propagation(S, random_state=0)\n",
    "print(cluster_centers_indices)\n",
    "groups = {}\n",
    "\n",
    "for i, label in enumerate(labels):\n",
    "    if label not in groups:\n",
    "        groups[label] = [column_sims[i]]\n",
    "    else:\n",
    "        groups[label].append(column_sims[i])\n",
    "\n",
    "groups\n",
    "# max cosine similarity is in what group? -> try to fill those columns"
   ]
  },
  {
   "cell_type": "code",
   "execution_count": 16,
   "id": "852e1a9c-224d-46f1-b726-7fc44275a755",
   "metadata": {},
   "outputs": [
    {
     "data": {
      "text/plain": [
       "[('percent_who_had_gpa_of_4', 0.5632066704592831),\n",
       " ('percent_who_had_gpa_between_3_75_and_3_99', 0.5828313567541883),\n",
       " ('percent_who_had_gpa_between_3_50_and_3_74', 0.5917935769697924),\n",
       " ('percent_who_had_gpa_between_3_25_and_3_49', 0.5940490744743664),\n",
       " ('percent_who_had_gpa_between_3_00_and_3_24', 0.5854920860592666),\n",
       " ('percent_who_had_gpa_between_2_50_and_2_99', 0.5834674695539106),\n",
       " ('percent_who_had_gpa_between_2_0_and_2_49', 0.5881357542287242),\n",
       " ('percent_who_had_gpa_between_1_0_and_1_99', 0.601285067489364)]"
      ]
     },
     "execution_count": 16,
     "metadata": {},
     "output_type": "execute_result"
    }
   ],
   "source": [
    "from sklearn.cluster import MeanShift\n",
    "\n",
    "clustering = MeanShift().fit(cosine_sims[0].reshape(-1, 1))\n",
    "\n",
    "groups = {}\n",
    "\n",
    "for i, label in enumerate(clustering.labels_):\n",
    "    if label not in groups:\n",
    "        groups[label] = [column_sims[i]]\n",
    "    else:\n",
    "        groups[label].append(column_sims[i])\n",
    "\n",
    "# groups\n",
    "groups[clustering.labels_[max_idx]]"
   ]
  },
  {
   "cell_type": "code",
   "execution_count": 22,
   "id": "dcfa88ed-dab2-4383-8198-fcaf3ee93db3",
   "metadata": {},
   "outputs": [
    {
     "name": "stdout",
     "output_type": "stream",
     "text": [
      "{\n",
      "  \"properties\": {\n",
      "    \"name\": {\n",
      "      \"anyOf\": [\n",
      "        {\n",
      "          \"type\": \"string\"\n",
      "        },\n",
      "        {\n",
      "          \"type\": \"null\"\n",
      "        }\n",
      "      ],\n",
      "      \"default\": null,\n",
      "      \"title\": \"Name\"\n",
      "    },\n",
      "    \"age\": {\n",
      "      \"anyOf\": [\n",
      "        {\n",
      "          \"type\": \"integer\"\n",
      "        },\n",
      "        {\n",
      "          \"type\": \"null\"\n",
      "        }\n",
      "      ],\n",
      "      \"default\": null,\n",
      "      \"title\": \"Age\"\n",
      "    },\n",
      "    \"salary\": {\n",
      "      \"anyOf\": [\n",
      "        {\n",
      "          \"type\": \"number\"\n",
      "        },\n",
      "        {\n",
      "          \"type\": \"null\"\n",
      "        }\n",
      "      ],\n",
      "      \"default\": null,\n",
      "      \"title\": \"Salary\"\n",
      "    },\n",
      "    \"has_children\": {\n",
      "      \"anyOf\": [\n",
      "        {\n",
      "          \"type\": \"boolean\"\n",
      "        },\n",
      "        {\n",
      "          \"type\": \"null\"\n",
      "        }\n",
      "      ],\n",
      "      \"default\": null,\n",
      "      \"title\": \"Has Children\"\n",
      "    }\n",
      "  },\n",
      "  \"title\": \"Column\",\n",
      "  \"type\": \"object\"\n",
      "}\n"
     ]
    }
   ],
   "source": [
    "from pydantic import BaseModel, Field\n",
    "from typing import Literal\n",
    "import json\n",
    "\n",
    "class Column(BaseModel):\n",
    "    name: str | None = None\n",
    "    age: int | None = None\n",
    "    salary: float | None = None\n",
    "    has_children: bool | None = None\n",
    "    # name: str = Field(description=\"Column name\")\n",
    "    # datatype: Literal[\"str\", \"int\", \"float\", \"bool\"] = Field(\n",
    "    #     description=\"Datatype of values for column\", default=\"str\"\n",
    "    # )\n",
    "\n",
    "print(json.dumps(Column.model_json_schema(), indent=2))"
   ]
  },
  {
   "cell_type": "code",
   "execution_count": null,
   "id": "0a913849-7fd4-4531-955c-86bea267d737",
   "metadata": {},
   "outputs": [],
   "source": []
  }
 ],
 "metadata": {
  "kernelspec": {
   "display_name": "Python 3 (ipykernel)",
   "language": "python",
   "name": "python3"
  },
  "language_info": {
   "codemirror_mode": {
    "name": "ipython",
    "version": 3
   },
   "file_extension": ".py",
   "mimetype": "text/x-python",
   "name": "python",
   "nbconvert_exporter": "python",
   "pygments_lexer": "ipython3",
   "version": "3.11.4"
  }
 },
 "nbformat": 4,
 "nbformat_minor": 5
}
